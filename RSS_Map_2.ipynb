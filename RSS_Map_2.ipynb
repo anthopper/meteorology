{
  "cells": [
    {
      "cell_type": "markdown",
      "metadata": {
        "id": "view-in-github",
        "colab_type": "text"
      },
      "source": [
        "<a href=\"https://colab.research.google.com/github/anthopper/meteorology/blob/main/RSS_Map_2.ipynb\" target=\"_parent\"><img src=\"https://colab.research.google.com/assets/colab-badge.svg\" alt=\"Open In Colab\"/></a>"
      ]
    },
    {
      "cell_type": "code",
      "execution_count": 1,
      "metadata": {
        "id": "D9uzphjW1GIL",
        "outputId": "e65c74b0-6bc6-4b55-c226-5ed37457a46f",
        "colab": {
          "base_uri": "https://localhost:8080/"
        }
      },
      "outputs": [
        {
          "output_type": "stream",
          "name": "stdout",
          "text": [
            "Reading package lists... Done\n",
            "Building dependency tree       \n",
            "Reading state information... Done\n",
            "libproj-dev is already the newest version (4.9.3-2).\n",
            "proj-bin is already the newest version (4.9.3-2).\n",
            "proj-data is already the newest version (4.9.3-2).\n",
            "The following package was automatically installed and is no longer required:\n",
            "  libnvidia-common-470\n",
            "Use 'apt autoremove' to remove it.\n",
            "0 upgraded, 0 newly installed, 0 to remove and 39 not upgraded.\n",
            "Reading package lists... Done\n",
            "Building dependency tree       \n",
            "Reading state information... Done\n",
            "libgeos-dev is already the newest version (3.6.2-1build2).\n",
            "The following package was automatically installed and is no longer required:\n",
            "  libnvidia-common-470\n",
            "Use 'apt autoremove' to remove it.\n",
            "0 upgraded, 0 newly installed, 0 to remove and 39 not upgraded.\n",
            "Requirement already satisfied: cython in /usr/local/lib/python3.7/dist-packages (0.29.28)\n",
            "Requirement already satisfied: cartopy in /usr/local/lib/python3.7/dist-packages (0.19.0.post1)\n",
            "Requirement already satisfied: pyshp>=2 in /usr/local/lib/python3.7/dist-packages (from cartopy) (2.2.0)\n",
            "Requirement already satisfied: numpy>=1.13.3 in /usr/local/lib/python3.7/dist-packages (from cartopy) (1.21.5)\n",
            "Requirement already satisfied: shapely>=1.5.6 in /usr/lib/python3/dist-packages (from cartopy) (1.6.4)\n"
          ]
        }
      ],
      "source": [
        "!apt-get install libproj-dev proj-data proj-bin\n",
        "!apt-get install libgeos-dev\n",
        "!pip install cython\n",
        "!pip install cartopy"
      ]
    },
    {
      "cell_type": "markdown",
      "source": [
        "This section cleans up the collision between shapely and cartopy packages."
      ],
      "metadata": {
        "id": "L2CXggtf769f"
      }
    },
    {
      "cell_type": "code",
      "execution_count": 2,
      "metadata": {
        "id": "teIqW-rt1GIM",
        "outputId": "b1e4819b-1b90-484e-8bd6-b74cfd7b44a0",
        "colab": {
          "base_uri": "https://localhost:8080/"
        }
      },
      "outputs": [
        {
          "output_type": "stream",
          "name": "stdout",
          "text": [
            "Found existing installation: Shapely 1.6.4\n",
            "Uninstalling Shapely-1.6.4:\n",
            "  Successfully uninstalled Shapely-1.6.4\n",
            "Collecting shapely\n",
            "  Downloading Shapely-1.8.1.post1.tar.gz (198 kB)\n",
            "\u001b[K     |████████████████████████████████| 198 kB 7.6 MB/s \n",
            "\u001b[?25h  Installing build dependencies ... \u001b[?25l\u001b[?25hdone\n",
            "  Getting requirements to build wheel ... \u001b[?25l\u001b[?25hdone\n",
            "    Preparing wheel metadata ... \u001b[?25l\u001b[?25hdone\n",
            "Building wheels for collected packages: shapely\n",
            "  Building wheel for shapely (PEP 517) ... \u001b[?25l\u001b[?25hdone\n",
            "  Created wheel for shapely: filename=Shapely-1.8.1.post1-cp37-cp37m-linux_x86_64.whl size=665640 sha256=d9908dcd4da25b8d9ed5194fac9270854173acbc8d4a072885894aaec34cca25\n",
            "  Stored in directory: /root/.cache/pip/wheels/ea/8d/2f/ab748b8a432b3c6cd72e751b3bca17c5a9ed4538b1e78467e6\n",
            "Successfully built shapely\n",
            "Installing collected packages: shapely\n",
            "\u001b[31mERROR: pip's dependency resolver does not currently take into account all the packages that are installed. This behaviour is the source of the following dependency conflicts.\n",
            "albumentations 0.1.12 requires imgaug<0.2.7,>=0.2.5, but you have imgaug 0.2.9 which is incompatible.\u001b[0m\n",
            "Successfully installed shapely-1.8.1.post1\n"
          ]
        }
      ],
      "source": [
        "!apt-get -qq install python-cartopy python3-cartopy\n",
        "!pip uninstall -y shapely    # cartopy and shapely aren't friends (early 2020)\n",
        "!pip install shapely --no-binary shapely"
      ]
    },
    {
      "cell_type": "markdown",
      "metadata": {
        "id": "4SVHf-Vh1GIN"
      },
      "source": [
        "***"
      ]
    },
    {
      "cell_type": "code",
      "execution_count": 3,
      "metadata": {
        "id": "6Te7Z6vC1GIN"
      },
      "outputs": [],
      "source": [
        "import warnings\n",
        "warnings.filterwarnings('ignore')"
      ]
    },
    {
      "cell_type": "code",
      "execution_count": 4,
      "metadata": {
        "id": "cxdih2KJ1GIO"
      },
      "outputs": [],
      "source": [
        "%matplotlib inline\n",
        "import matplotlib.pyplot as plt\n",
        "from matplotlib import cm\n",
        "\n",
        "import numpy as np\n",
        "import scipy.io.netcdf as sp\n",
        "\n",
        "import cartopy\n",
        "import cartopy.crs as ccrs                   # for projections\n",
        "import cartopy.feature as cfeature           # for features\n",
        "import cartopy.io.shapereader as shapereader\n",
        "from cartopy.util import add_cyclic_point\n",
        "from cartopy.mpl.ticker import LongitudeFormatter, LatitudeFormatter\n",
        "from cartopy.feature.nightshade import Nightshade"
      ]
    },
    {
      "cell_type": "code",
      "source": [
        "from google.colab import drive\n",
        "drive.mount('/content/drive')"
      ],
      "metadata": {
        "id": "BMp_EGfx5ZvB",
        "outputId": "84161d3a-11d8-448d-ee3d-4937bc419faa",
        "colab": {
          "base_uri": "https://localhost:8080/"
        }
      },
      "execution_count": 5,
      "outputs": [
        {
          "output_type": "stream",
          "name": "stdout",
          "text": [
            "Drive already mounted at /content/drive; to attempt to forcibly remount, call drive.mount(\"/content/drive\", force_remount=True).\n"
          ]
        }
      ]
    },
    {
      "cell_type": "markdown",
      "source": [
        "Next, we load in the data and create some new variables from it."
      ],
      "metadata": {
        "id": "N7jF0tKb8cBp"
      }
    },
    {
      "cell_type": "code",
      "source": [
        "fileObj = sp.NetCDFFile('/content/drive/My Drive/Meteorology/CERES_EBAF-TOA_Ed4.1_Subset_200003-202111.nc', 'r')\n",
        "\n",
        "RSR = fileObj.variables['toa_sw_all_mon'][:]\n",
        "lat = fileObj.variables['lat'][:]\n",
        "lon = fileObj.variables['lon'][:]\n",
        "\n",
        "numYears = RSR.shape[0] // 12\n",
        "\n",
        "fullYearRSR = RSR[0:numYears * 12, :, :]\n",
        "\n",
        "# Average the data at each location across all months\n",
        "means = fullYearRSR.mean(axis=0)\n"
      ],
      "metadata": {
        "id": "wv8GLVpt5kmX"
      },
      "execution_count": 6,
      "outputs": []
    },
    {
      "cell_type": "markdown",
      "source": [
        "Finally we visualize the data on the map."
      ],
      "metadata": {
        "id": "jor4ow5Z8pTp"
      }
    },
    {
      "cell_type": "code",
      "source": [
        "# Fix problem with 0 longitude missing data\n",
        "means, lon = add_cyclic_point(means, coord=lon)\n",
        "axes = plt.axes(projection=ccrs.PlateCarree())\n",
        "axes.add_feature(cfeature.COASTLINE, linewidth=0.5)\n",
        "\n",
        "# Overlay the contours onto the map based on the mean RSR values at each location. Include a color bar and add a title\n",
        "plt.contourf(lon[:], lat[:], means[:,:], levels=12, cmap='bone')\n",
        "plt.colorbar(orientation='horizontal')\n",
        "plt.title('Mean RSR (W/m^2), Mar 2000 - Feb 2020')\n",
        "\n",
        "\n",
        "# Save a PNG image of the map\n",
        "plt.savefig('/content/drive/My Drive/Meteorology/RSR_Map.png', bbox_inches='tight', dpi=200)\n",
        "\n",
        "\n",
        "# projection options: https://scitools.org.uk/cartopy/docs/latest/crs/projections.html\n",
        "# cmap options: https://matplotlib.org/stable/tutorials/colors/colormaps.html"
      ],
      "metadata": {
        "id": "IxPfE6IT6pU2",
        "outputId": "4db95f2d-c4c7-4bf3-b3bc-df1c1c47126e",
        "colab": {
          "base_uri": "https://localhost:8080/",
          "height": 265
        }
      },
      "execution_count": 7,
      "outputs": [
        {
          "output_type": "display_data",
          "data": {
            "image/png": "[encoded data removed]",
            "text/plain": [
              "<Figure size 432x288 with 2 Axes>"
            ]
          },
          "metadata": {
            "needs_background": "light"
          }
        }
      ]
    },
    {
      "cell_type": "code",
      "source": [
        ""
      ],
      "metadata": {
        "id": "6ARn3Y7A9P5E"
      },
      "execution_count": null,
      "outputs": []
    }
  ],
  "metadata": {
    "anaconda-cloud": {},
    "kernelspec": {
      "display_name": "Python 3",
      "language": "python",
      "name": "python3"
    },
    "language_info": {
      "codemirror_mode": {
        "name": "ipython",
        "version": 3
      },
      "file_extension": ".py",
      "mimetype": "text/x-python",
      "name": "python",
      "nbconvert_exporter": "python",
      "pygments_lexer": "ipython3",
      "version": "3.7.3"
    },
    "colab": {
      "name": "RSS_Map_2.ipynb",
      "provenance": [],
      "collapsed_sections": [],
      "include_colab_link": true
    }
  },
  "nbformat": 4,
  "nbformat_minor": 0
}