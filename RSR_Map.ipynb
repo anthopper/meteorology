{
  "nbformat": 4,
  "nbformat_minor": 0,
  "metadata": {
    "colab": {
      "name": "RSR_Map.ipynb",
      "provenance": [],
      "collapsed_sections": [],
      "include_colab_link": true
    },
    "kernelspec": {
      "name": "python3",
      "display_name": "Python 3"
    },
    "language_info": {
      "name": "python"
    }
  },
  "cells": [
    {
      "cell_type": "markdown",
      "metadata": {
        "id": "view-in-github",
        "colab_type": "text"
      },
      "source": [
        "<a href=\"https://colab.research.google.com/github/anthopper/meteorology/blob/main/RSR_Map.ipynb\" target=\"_parent\"><img src=\"https://colab.research.google.com/assets/colab-badge.svg\" alt=\"Open In Colab\"/></a>"
      ]
    },
    {
      "cell_type": "code",
      "source": [
        "# Run this block before anything else\n",
        "\n",
        "%env PYTHONPATH=\n",
        "!wget -c https://repo.anaconda.com/miniconda/Miniconda3-4.5.4-Linux-x86_64.sh\n",
        "!chmod +x Miniconda3-4.5.4-Linux-x86_64.sh\n",
        "!bash ./Miniconda3-4.5.4-Linux-x86_64.sh -b -f -p /usr/local\n",
        "!rm ./Miniconda3-4.5.4-Linux-x86_64.sh\n",
        "!conda install -q -y --prefix /usr/local python=3.7 cartopy\n",
        "import sys\n",
        "sys.path.append('/usr/local/lib/python3.7/site-packages')\n",
        "%matplotlib inline\n",
        "\n",
        "import scipy.io.netcdf as sp\n",
        "import matplotlib.pyplot as plt\n",
        "import numpy as np\n",
        "\n",
        "!pip install cartopy\n",
        "import cartopy.crs as ccrs\n",
        "import cartopy.feature as cf\n",
        "from cartopy.util import add_cyclic_point\n",
        "\n"
      ],
      "metadata": {
        "id": "hhYiVZkaxbp1",
        "colab": {
          "base_uri": "https://localhost:8080/"
        },
        "outputId": "c7afb891-c994-48ab-8d35-557906bc5a02"
      },
      "execution_count": 1,
      "outputs": [
        {
          "output_type": "stream",
          "name": "stdout",
          "text": [
            "env: PYTHONPATH=\n",
            "--2022-03-02 18:42:22--  https://repo.anaconda.com/miniconda/Miniconda3-4.5.4-Linux-x86_64.sh\n",
            "Resolving repo.anaconda.com (repo.anaconda.com)... 104.16.131.3, 104.16.130.3, 2606:4700::6810:8203, ...\n",
            "Connecting to repo.anaconda.com (repo.anaconda.com)|104.16.131.3|:443... connected.\n",
            "HTTP request sent, awaiting response... 200 OK\n",
            "Length: 58468498 (56M) [application/x-sh]\n",
            "Saving to: ‘Miniconda3-4.5.4-Linux-x86_64.sh’\n",
            "\n",
            "Miniconda3-4.5.4-Li 100%[===================>]  55.76M   249MB/s    in 0.2s    \n",
            "\n",
            "2022-03-02 18:42:23 (249 MB/s) - ‘Miniconda3-4.5.4-Linux-x86_64.sh’ saved [58468498/58468498]\n",
            "\n",
            "PREFIX=/usr/local\n",
            "installing: python-3.6.5-hc3d631a_2 ...\n",
            "Python 3.6.5 :: Anaconda, Inc.\n",
            "installing: ca-certificates-2018.03.07-0 ...\n",
            "installing: conda-env-2.6.0-h36134e3_1 ...\n",
            "installing: libgcc-ng-7.2.0-hdf63c60_3 ...\n",
            "installing: libstdcxx-ng-7.2.0-hdf63c60_3 ...\n",
            "installing: libffi-3.2.1-hd88cf55_4 ...\n",
            "installing: ncurses-6.1-hf484d3e_0 ...\n",
            "installing: openssl-1.0.2o-h20670df_0 ...\n",
            "installing: tk-8.6.7-hc745277_3 ...\n",
            "installing: xz-5.2.4-h14c3975_4 ...\n",
            "installing: yaml-0.1.7-had09818_2 ...\n",
            "installing: zlib-1.2.11-ha838bed_2 ...\n",
            "installing: libedit-3.1.20170329-h6b74fdf_2 ...\n",
            "installing: readline-7.0-ha6073c6_4 ...\n",
            "installing: sqlite-3.23.1-he433501_0 ...\n",
            "installing: asn1crypto-0.24.0-py36_0 ...\n",
            "installing: certifi-2018.4.16-py36_0 ...\n",
            "installing: chardet-3.0.4-py36h0f667ec_1 ...\n",
            "installing: idna-2.6-py36h82fb2a8_1 ...\n",
            "installing: pycosat-0.6.3-py36h0a5515d_0 ...\n",
            "installing: pycparser-2.18-py36hf9f622e_1 ...\n",
            "installing: pysocks-1.6.8-py36_0 ...\n",
            "installing: ruamel_yaml-0.15.37-py36h14c3975_2 ...\n",
            "installing: six-1.11.0-py36h372c433_1 ...\n",
            "installing: cffi-1.11.5-py36h9745a5d_0 ...\n",
            "installing: setuptools-39.2.0-py36_0 ...\n",
            "installing: cryptography-2.2.2-py36h14c3975_0 ...\n",
            "installing: wheel-0.31.1-py36_0 ...\n",
            "installing: pip-10.0.1-py36_0 ...\n",
            "installing: pyopenssl-18.0.0-py36_0 ...\n",
            "installing: urllib3-1.22-py36hbe7ace6_0 ...\n",
            "installing: requests-2.18.4-py36he2e5f8d_1 ...\n",
            "installing: conda-4.5.4-py36_0 ...\n",
            "unlinking: asn1crypto-1.4.0-py_0\n",
            "unlinking: ca-certificates-2022.2.1-h06a4308_0\n",
            "unlinking: certifi-2021.10.8-py37h06a4308_2\n",
            "unlinking: cffi-1.15.0-py37hd667e15_1\n",
            "unlinking: chardet-4.0.0-py37h06a4308_1003\n",
            "unlinking: conda-4.11.0-py37h06a4308_0\n",
            "unlinking: cryptography-36.0.0-py37h9ce1e76_0\n",
            "unlinking: idna-3.3-pyhd3eb1b0_0\n",
            "unlinking: libffi-3.3-he6710b0_2\n",
            "unlinking: libgcc-ng-9.1.0-hdf63c60_0\n",
            "unlinking: libstdcxx-ng-9.1.0-hdf63c60_0\n",
            "unlinking: ncurses-6.3-h7f8727e_2\n",
            "unlinking: openssl-1.1.1m-h7f8727e_0\n",
            "unlinking: pip-21.2.2-py37h06a4308_0\n",
            "unlinking: pycosat-0.6.3-py37h27cfd23_0\n",
            "unlinking: pycparser-2.21-pyhd3eb1b0_0\n",
            "unlinking: pyopenssl-22.0.0-pyhd3eb1b0_0\n",
            "unlinking: pysocks-1.7.1-py37_1\n",
            "unlinking: python-3.7.11-h12debd9_0\n",
            "unlinking: readline-8.1.2-h7f8727e_1\n",
            "unlinking: requests-2.27.1-pyhd3eb1b0_0\n",
            "unlinking: ruamel_yaml-0.15.87-py37h7b6447c_0\n",
            "unlinking: setuptools-58.0.4-py37h06a4308_0\n",
            "unlinking: six-1.16.0-pyhd3eb1b0_1\n",
            "unlinking: sqlite-3.37.2-hc218d9a_0\n",
            "unlinking: tk-8.6.11-h1ccaba5_0\n",
            "unlinking: urllib3-1.26.8-pyhd3eb1b0_0\n",
            "unlinking: wheel-0.37.1-pyhd3eb1b0_0\n",
            "unlinking: xz-5.2.5-h7b6447c_0\n",
            "installation finished.\n",
            "Solving environment: ...working... done\n",
            "\n",
            "## Package Plan ##\n",
            "\n",
            "  environment location: /usr/local\n",
            "\n",
            "  added / updated specs: \n",
            "    - cartopy\n",
            "    - python=3.7\n",
            "\n",
            "\n",
            "The following packages will be UPDATED:\n",
            "\n",
            "    asn1crypto:         0.24.0-py36_0          --> 1.4.0-py_0              \n",
            "    ca-certificates:    2018.03.07-0           --> 2022.2.1-h06a4308_0     \n",
            "    certifi:            2018.4.16-py36_0       --> 2021.10.8-py37h06a4308_2\n",
            "    cffi:               1.11.5-py36h9745a5d_0  --> 1.15.0-py37hd667e15_1   \n",
            "    chardet:            3.0.4-py36h0f667ec_1   --> 4.0.0-py37h06a4308_1003 \n",
            "    charset-normalizer: 2.0.4-pyhd3eb1b0_0     --> 2.0.4-pyhd3eb1b0_0      \n",
            "    conda:              4.5.4-py36_0           --> 4.11.0-py37h06a4308_0   \n",
            "    cryptography:       2.2.2-py36h14c3975_0   --> 36.0.0-py37h9ce1e76_0   \n",
            "    cycler:             0.11.0-pyhd3eb1b0_0    --> 0.11.0-pyhd3eb1b0_0     \n",
            "    fonttools:          4.25.0-pyhd3eb1b0_0    --> 4.25.0-pyhd3eb1b0_0     \n",
            "    idna:               2.6-py36h82fb2a8_1     --> 3.3-pyhd3eb1b0_0        \n",
            "    libffi:             3.2.1-hd88cf55_4       --> 3.3-he6710b0_2          \n",
            "    libgcc-ng:          7.2.0-hdf63c60_3       --> 9.1.0-hdf63c60_0        \n",
            "    libstdcxx-ng:       7.2.0-hdf63c60_3       --> 9.1.0-hdf63c60_0        \n",
            "    munkres:            1.1.4-py_0             --> 1.1.4-py_0              \n",
            "    ncurses:            6.1-hf484d3e_0         --> 6.3-h7f8727e_2          \n",
            "    olefile:            0.46-pyhd3eb1b0_0      --> 0.46-pyhd3eb1b0_0       \n",
            "    openssl:            1.0.2o-h20670df_0      --> 1.1.1m-h7f8727e_0       \n",
            "    packaging:          21.3-pyhd3eb1b0_0      --> 21.3-pyhd3eb1b0_0       \n",
            "    pip:                10.0.1-py36_0          --> 21.2.2-py37h06a4308_0   \n",
            "    pycosat:            0.6.3-py36h0a5515d_0   --> 0.6.3-py37h27cfd23_0    \n",
            "    pycparser:          2.18-py36hf9f622e_1    --> 2.21-pyhd3eb1b0_0       \n",
            "    pyopenssl:          18.0.0-py36_0          --> 22.0.0-pyhd3eb1b0_0     \n",
            "    pyparsing:          3.0.4-pyhd3eb1b0_0     --> 3.0.4-pyhd3eb1b0_0      \n",
            "    pyshp:              2.1.3-pyhd3eb1b0_0     --> 2.1.3-pyhd3eb1b0_0      \n",
            "    pysocks:            1.6.8-py36_0           --> 1.7.1-py37_1            \n",
            "    python:             3.6.5-hc3d631a_2       --> 3.7.11-h12debd9_0       \n",
            "    python-dateutil:    2.8.2-pyhd3eb1b0_0     --> 2.8.2-pyhd3eb1b0_0      \n",
            "    readline:           7.0-ha6073c6_4         --> 8.1.2-h7f8727e_1        \n",
            "    requests:           2.18.4-py36he2e5f8d_1  --> 2.27.1-pyhd3eb1b0_0     \n",
            "    ruamel_yaml:        0.15.37-py36h14c3975_2 --> 0.15.87-py37h7b6447c_0  \n",
            "    setuptools:         39.2.0-py36_0          --> 58.0.4-py37h06a4308_0   \n",
            "    six:                1.11.0-py36h372c433_1  --> 1.16.0-pyhd3eb1b0_1     \n",
            "    sqlite:             3.23.1-he433501_0      --> 3.37.2-hc218d9a_0       \n",
            "    tk:                 8.6.7-hc745277_3       --> 8.6.11-h1ccaba5_0       \n",
            "    tqdm:               4.62.3-pyhd3eb1b0_1    --> 4.62.3-pyhd3eb1b0_1     \n",
            "    urllib3:            1.22-py36hbe7ace6_0    --> 1.26.8-pyhd3eb1b0_0     \n",
            "    wheel:              0.31.1-py36_0          --> 0.37.1-pyhd3eb1b0_0     \n",
            "    xz:                 5.2.4-h14c3975_4       --> 5.2.5-h7b6447c_0        \n",
            "\n",
            "Preparing transaction: ...working... done\n",
            "Verifying transaction: ...working... done\n",
            "Executing transaction: ...working... done\n",
            "Requirement already satisfied: cartopy in /usr/local/lib/python3.7/site-packages (0.18.0)\n",
            "Requirement already satisfied: pyshp>=1.1.4 in /usr/local/lib/python3.7/site-packages (from cartopy) (2.1.3)\n",
            "Requirement already satisfied: shapely>=1.5.6 in /usr/local/lib/python3.7/site-packages (from cartopy) (1.7.1)\n",
            "Requirement already satisfied: numpy>=1.10 in /usr/local/lib/python3.7/site-packages (from cartopy) (1.19.2)\n",
            "Requirement already satisfied: setuptools>=0.7.2 in /usr/local/lib/python3.7/site-packages (from cartopy) (58.0.4)\n",
            "Requirement already satisfied: six>=1.3.0 in /usr/local/lib/python3.7/site-packages (from cartopy) (1.16.0)\n",
            "\u001b[33mWARNING: Running pip as the 'root' user can result in broken permissions and conflicting behaviour with the system package manager. It is recommended to use a virtual environment instead: https://pip.pypa.io/warnings/venv\u001b[0m\n"
          ]
        }
      ]
    },
    {
      "cell_type": "code",
      "source": [
        "from google.colab import drive\n",
        "drive.mount('/content/drive')"
      ],
      "metadata": {
        "id": "T-R-Y4Ch8K2o"
      },
      "execution_count": null,
      "outputs": []
    },
    {
      "cell_type": "code",
      "source": [
        "# Open the dataset file\n",
        "fileObj = sp.NetCDFFile('/content/drive/My Drive/Meteorology/CERES_EBAF-TOA_Ed4.1_Subset_200003-202111.nc', 'r')\n",
        "print('here 2')"
      ],
      "metadata": {
        "colab": {
          "base_uri": "https://localhost:8080/"
        },
        "id": "PRWE0RuC5umt",
        "outputId": "282d8374-5de2-44da-c2fa-cb9e4ce2224e"
      },
      "execution_count": 2,
      "outputs": [
        {
          "output_type": "stream",
          "name": "stdout",
          "text": [
            "here 2\n"
          ]
        }
      ]
    },
    {
      "cell_type": "code",
      "source": [
        "# Make variables to store all the RSR, latitude, and longitude values\n",
        "RSR = fileObj.variables['toa_sw_all_mon'][:]\n",
        "lat = fileObj.variables['lat'][:]\n",
        "lon = fileObj.variables['lon'][:]\n",
        "print('here 3')"
      ],
      "metadata": {
        "colab": {
          "base_uri": "https://localhost:8080/"
        },
        "id": "2lVJgfSe5xMU",
        "outputId": "da4cb439-dce0-4bd3-bdb4-cb1daaf9e4a9"
      },
      "execution_count": 3,
      "outputs": [
        {
          "output_type": "stream",
          "name": "stdout",
          "text": [
            "here 3\n"
          ]
        }
      ]
    },
    {
      "cell_type": "code",
      "source": [
        "numYears = RSR.shape[0] // 12\n",
        "print('here 4')"
      ],
      "metadata": {
        "colab": {
          "base_uri": "https://localhost:8080/"
        },
        "id": "PvZBdHzX50dp",
        "outputId": "931ed747-6076-4f0c-83e0-53e32b5868f2"
      },
      "execution_count": 4,
      "outputs": [
        {
          "output_type": "stream",
          "name": "stdout",
          "text": [
            "here 4\n"
          ]
        }
      ]
    },
    {
      "cell_type": "code",
      "source": [
        "# Take a subset of the data in which the extra months at the end that are not part of a full year are excluded\n",
        "fullYearRSR = RSR[0:numYears * 12, :, :]\n",
        "print('here 5')"
      ],
      "metadata": {
        "colab": {
          "base_uri": "https://localhost:8080/"
        },
        "id": "oUBtvyS-54kp",
        "outputId": "a29f46f1-67db-4f73-d7ed-7b0ea07ce8b1"
      },
      "execution_count": 5,
      "outputs": [
        {
          "output_type": "stream",
          "name": "stdout",
          "text": [
            "here 5\n"
          ]
        }
      ]
    },
    {
      "cell_type": "code",
      "source": [
        "# Average the data at each location across all months\n",
        "means = fullYearRSR.mean(axis=0)\n",
        "print('here 6')"
      ],
      "metadata": {
        "colab": {
          "base_uri": "https://localhost:8080/"
        },
        "id": "boaNlD9p59Lo",
        "outputId": "ecc19937-13b9-4fb4-f591-1b8a73f82386"
      },
      "execution_count": 6,
      "outputs": [
        {
          "output_type": "stream",
          "name": "stdout",
          "text": [
            "here 6\n"
          ]
        }
      ]
    },
    {
      "cell_type": "code",
      "source": [
        "# Fix problem with 0 longitude missing data\n",
        "means, lon = add_cyclic_point(means, coord=lon)\n",
        "print('here 7')"
      ],
      "metadata": {
        "colab": {
          "base_uri": "https://localhost:8080/"
        },
        "id": "KSpP_wGe6AUQ",
        "outputId": "650c0af2-5e12-4843-adb1-494d737c3b27"
      },
      "execution_count": 7,
      "outputs": [
        {
          "output_type": "stream",
          "name": "stdout",
          "text": [
            "here 7\n"
          ]
        }
      ]
    },
    {
      "cell_type": "code",
      "source": [
        "# Set up a global map using the Plate Carree projection and add coastlines\n",
        "axes = plt.axes(projection=ccrs.PlateCarree())\n",
        "\n",
        "print('here 8')"
      ],
      "metadata": {
        "colab": {
          "base_uri": "https://localhost:8080/",
          "height": 216
        },
        "id": "lrE4gI4c6Cs5",
        "outputId": "8fd9d72e-61f3-4991-b181-16ae9489e84b"
      },
      "execution_count": 10,
      "outputs": [
        {
          "output_type": "stream",
          "name": "stdout",
          "text": [
            "here 8\n"
          ]
        },
        {
          "output_type": "display_data",
          "data": {
            "image/png": "[encoded data removed]",
            "text/plain": [
              "<Figure size 432x288 with 1 Axes>"
            ]
          },
          "metadata": {
            "needs_background": "light"
          }
        }
      ]
    },
    {
      "cell_type": "code",
      "source": [
        "axes.add_feature(cf.COASTLINE, linewidth=0.5)"
      ],
      "metadata": {
        "colab": {
          "base_uri": "https://localhost:8080/"
        },
        "id": "rzUicd3p8GDi",
        "outputId": "c0365a53-72f1-4974-e68f-22c2e388a0ec"
      },
      "execution_count": 9,
      "outputs": [
        {
          "output_type": "execute_result",
          "data": {
            "text/plain": [
              "<cartopy.mpl.feature_artist.FeatureArtist at 0x7f4c5ef4a250>"
            ]
          },
          "metadata": {},
          "execution_count": 9
        }
      ]
    },
    {
      "cell_type": "code",
      "metadata": {
        "id": "mbh0Q1u7Lu1u",
        "colab": {
          "base_uri": "https://localhost:8080/",
          "height": 300
        },
        "outputId": "902d735a-efc6-4fba-a786-60605d1c5966"
      },
      "source": [
        "# Overlay the contours onto the map based on the mean RSR values at each location. Include a color bar and add a title\n",
        "plt.contourf(lon[:], lat[:], means[:,:], levels=12, cmap='bone')\n",
        "plt.colorbar(orientation='horizontal')\n",
        "plt.title('Mean RSR (W/m^2), Mar 2000 - Feb 2020')\n",
        "print('here 9')\n",
        "\n",
        "# Save a PNG image of the map\n",
        "plt.savefig('/content/drive/My Drive/Meteorology/RSR_Map.png', bbox_inches='tight', dpi=200)\n",
        "print('here 10')\n",
        "\n",
        "# projection options: https://scitools.org.uk/cartopy/docs/latest/crs/projections.html\n",
        "# cmap options: https://matplotlib.org/stable/tutorials/colors/colormaps.html"
      ],
      "execution_count": 11,
      "outputs": [
        {
          "output_type": "stream",
          "name": "stdout",
          "text": [
            "here 9\n",
            "here 10\n"
          ]
        },
        {
          "output_type": "display_data",
          "data": {
            "image/png": "[encoded data removed]",
            "text/plain": [
              "<Figure size 432x288 with 2 Axes>"
            ]
          },
          "metadata": {
            "needs_background": "light"
          }
        }
      ]
    },
    {
      "cell_type": "code",
      "source": [
        ""
      ],
      "metadata": {
        "id": "0RKSsQoc4zHi"
      },
      "execution_count": null,
      "outputs": []
    }
  ]
}