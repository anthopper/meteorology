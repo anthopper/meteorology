{
  "nbformat": 4,
  "nbformat_minor": 0,
  "metadata": {
    "colab": {
      "name": "RSR_Map.ipynb",
      "provenance": [],
      "collapsed_sections": []
    },
    "kernelspec": {
      "name": "python3",
      "display_name": "Python 3"
    },
    "language_info": {
      "name": "python"
    }
  },
  "cells": [
    {
      "cell_type": "code",
      "source": [
        "# Run this block before anything else\n",
        "\n",
        "%env PYTHONPATH=\n",
        "!wget -c https://repo.anaconda.com/miniconda/Miniconda3-4.5.4-Linux-x86_64.sh\n",
        "!chmod +x Miniconda3-4.5.4-Linux-x86_64.sh\n",
        "!bash ./Miniconda3-4.5.4-Linux-x86_64.sh -b -f -p /usr/local\n",
        "!rm ./Miniconda3-4.5.4-Linux-x86_64.sh\n",
        "!conda install -q -y --prefix /usr/local python=3.7 cartopy\n",
        "import sys\n",
        "sys.path.append('/usr/local/lib/python3.7/site-packages')\n",
        "%matplotlib inline\n",
        "\n",
        "import scipy.io.netcdf as sp\n",
        "import matplotlib.pyplot as plt\n",
        "import numpy as np\n",
        "\n",
        "!pip install cartopy\n",
        "import cartopy.crs as ccrs\n",
        "import cartopy.feature as cf\n",
        "from cartopy.util import add_cyclic_point\n",
        "\n",
        "from google.colab import drive\n",
        "drive.mount('/content/drive')"
      ],
      "metadata": {
        "id": "hhYiVZkaxbp1"
      },
      "execution_count": null,
      "outputs": []
    },
    {
      "cell_type": "code",
      "metadata": {
        "id": "mbh0Q1u7Lu1u"
      },
      "source": [
        "# This script creates a global contour map of the mean RSR values at each location\n",
        "\n",
        "print('here 1')\n",
        "\n",
        "# Open the dataset file\n",
        "fileObj = sp.NetCDFFile('/content/drive/Shared drives/Research Project Data/CERES_EBAF-TOA_Ed4.1_Subset_200003-202111.nc', 'r')\n",
        "print('here 2')\n",
        "\n",
        "# Make variables to store all the RSR, latitude, and longitude values\n",
        "RSR = fileObj.variables['toa_sw_all_mon'][:]\n",
        "lat = fileObj.variables['lat'][:]\n",
        "lon = fileObj.variables['lon'][:]\n",
        "print('here 3')\n",
        "\n",
        "# Calculate how many full years of data is in the dataset\n",
        "numYears = RSR.shape[0] // 12\n",
        "print('here 4')\n",
        "\n",
        "# Take a subset of the data in which the extra months at the end that are not part of a full year are excluded\n",
        "fullYearRSR = RSR[0:numYears * 12, :, :]\n",
        "print('here 5')\n",
        "\n",
        "# Average the data at each location across all months\n",
        "means = fullYearRSR.mean(axis=0)\n",
        "print('here 6')\n",
        "\n",
        "# Fix problem with 0 longitude missing data\n",
        "means, lon = add_cyclic_point(means, coord=lon)\n",
        "print('here 7')\n",
        "\n",
        "# Set up a global map using the Plate Carree projection and add coastlines\n",
        "axes = plt.axes(projection=ccrs.PlateCarree())\n",
        "axes.add_feature(cf.COASTLINE, linewidth=0.5)\n",
        "print('here 8')\n",
        "\n",
        "# Overlay the contours onto the map based on the mean RSR values at each location. Include a color bar and add a title\n",
        "plt.contourf(lon[:], lat[:], means[:,:], levels=12, cmap='bone')\n",
        "plt.colorbar(orientation='horizontal')\n",
        "plt.title('Mean RSR (W/m^2), Mar 2000 - Feb 2020')\n",
        "print('here 9')\n",
        "\n",
        "# Save a PNG image of the map\n",
        "plt.savefig('/content/drive/My Drive/Research Project/RSR_Map.png', bbox_inches='tight', dpi=200)\n",
        "print('here 10')\n",
        "\n",
        "# projection options: https://scitools.org.uk/cartopy/docs/latest/crs/projections.html\n",
        "# cmap options: https://matplotlib.org/stable/tutorials/colors/colormaps.html"
      ],
      "execution_count": null,
      "outputs": []
    }
  ]
}